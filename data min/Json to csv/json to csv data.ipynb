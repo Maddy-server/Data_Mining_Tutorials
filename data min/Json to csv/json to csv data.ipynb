{
 "cells": [
  {
   "cell_type": "code",
   "execution_count": 6,
   "metadata": {},
   "outputs": [],
   "source": [
    "import pandas as pd\n",
    "import numpy as np\n",
    "import json"
   ]
  },
  {
   "cell_type": "code",
   "execution_count": 4,
   "metadata": {},
   "outputs": [
    {
     "data": {
      "text/html": [
       "<div>\n",
       "<style scoped>\n",
       "    .dataframe tbody tr th:only-of-type {\n",
       "        vertical-align: middle;\n",
       "    }\n",
       "\n",
       "    .dataframe tbody tr th {\n",
       "        vertical-align: top;\n",
       "    }\n",
       "\n",
       "    .dataframe thead th {\n",
       "        text-align: right;\n",
       "    }\n",
       "</style>\n",
       "<table border=\"1\" class=\"dataframe\">\n",
       "  <thead>\n",
       "    <tr style=\"text-align: right;\">\n",
       "      <th></th>\n",
       "      <th>id</th>\n",
       "      <th>email</th>\n",
       "      <th>first</th>\n",
       "      <th>last</th>\n",
       "      <th>company</th>\n",
       "      <th>created_at</th>\n",
       "      <th>country</th>\n",
       "    </tr>\n",
       "  </thead>\n",
       "  <tbody>\n",
       "    <tr>\n",
       "      <th>0</th>\n",
       "      <td>1</td>\n",
       "      <td>isidro_von@hotmail.com</td>\n",
       "      <td>Torrey</td>\n",
       "      <td>Veum</td>\n",
       "      <td>Hilll, Mayert and Wolf</td>\n",
       "      <td>2014-12-25 04:06:27.981000+00:00</td>\n",
       "      <td>Switzerland</td>\n",
       "    </tr>\n",
       "    <tr>\n",
       "      <th>1</th>\n",
       "      <td>2</td>\n",
       "      <td>frederique19@gmail.com</td>\n",
       "      <td>Micah</td>\n",
       "      <td>Sanford</td>\n",
       "      <td>Stokes-Reichel</td>\n",
       "      <td>2014-07-03 16:08:17.044000+00:00</td>\n",
       "      <td>Democratic People's Republic of Korea</td>\n",
       "    </tr>\n",
       "    <tr>\n",
       "      <th>2</th>\n",
       "      <td>3</td>\n",
       "      <td>fredy54@gmail.com</td>\n",
       "      <td>Hollis</td>\n",
       "      <td>Swift</td>\n",
       "      <td>Rodriguez, Cartwright and Kuhn</td>\n",
       "      <td>2014-08-18 06:15:16.731000+00:00</td>\n",
       "      <td>Tunisia</td>\n",
       "    </tr>\n",
       "    <tr>\n",
       "      <th>3</th>\n",
       "      <td>4</td>\n",
       "      <td>braxton29@hotmail.com</td>\n",
       "      <td>Perry</td>\n",
       "      <td>Leffler</td>\n",
       "      <td>Sipes, Feeney and Hansen</td>\n",
       "      <td>2014-07-10 11:31:40.235000+00:00</td>\n",
       "      <td>Chad</td>\n",
       "    </tr>\n",
       "    <tr>\n",
       "      <th>4</th>\n",
       "      <td>5</td>\n",
       "      <td>turner59@gmail.com</td>\n",
       "      <td>Janelle</td>\n",
       "      <td>Hagenes</td>\n",
       "      <td>Lesch and Daughters</td>\n",
       "      <td>2014-04-21 15:05:43.229000+00:00</td>\n",
       "      <td>Swaziland</td>\n",
       "    </tr>\n",
       "  </tbody>\n",
       "</table>\n",
       "</div>"
      ],
      "text/plain": [
       "   id                   email    first     last  \\\n",
       "0   1  isidro_von@hotmail.com   Torrey     Veum   \n",
       "1   2  frederique19@gmail.com    Micah  Sanford   \n",
       "2   3       fredy54@gmail.com   Hollis    Swift   \n",
       "3   4   braxton29@hotmail.com    Perry  Leffler   \n",
       "4   5      turner59@gmail.com  Janelle  Hagenes   \n",
       "\n",
       "                          company                       created_at  \\\n",
       "0          Hilll, Mayert and Wolf 2014-12-25 04:06:27.981000+00:00   \n",
       "1                  Stokes-Reichel 2014-07-03 16:08:17.044000+00:00   \n",
       "2  Rodriguez, Cartwright and Kuhn 2014-08-18 06:15:16.731000+00:00   \n",
       "3        Sipes, Feeney and Hansen 2014-07-10 11:31:40.235000+00:00   \n",
       "4             Lesch and Daughters 2014-04-21 15:05:43.229000+00:00   \n",
       "\n",
       "                                 country  \n",
       "0                            Switzerland  \n",
       "1  Democratic People's Republic of Korea  \n",
       "2                                Tunisia  \n",
       "3                                   Chad  \n",
       "4                              Swaziland  "
      ]
     },
     "execution_count": 4,
     "metadata": {},
     "output_type": "execute_result"
    }
   ],
   "source": [
    "data=pd.read_json('json_data.txt')\n",
    "data.head()"
   ]
  },
  {
   "cell_type": "code",
   "execution_count": 5,
   "metadata": {},
   "outputs": [
    {
     "data": {
      "text/html": [
       "<div>\n",
       "<style scoped>\n",
       "    .dataframe tbody tr th:only-of-type {\n",
       "        vertical-align: middle;\n",
       "    }\n",
       "\n",
       "    .dataframe tbody tr th {\n",
       "        vertical-align: top;\n",
       "    }\n",
       "\n",
       "    .dataframe thead th {\n",
       "        text-align: right;\n",
       "    }\n",
       "</style>\n",
       "<table border=\"1\" class=\"dataframe\">\n",
       "  <thead>\n",
       "    <tr style=\"text-align: right;\">\n",
       "      <th></th>\n",
       "      <th>Product</th>\n",
       "      <th>Price</th>\n",
       "    </tr>\n",
       "  </thead>\n",
       "  <tbody>\n",
       "    <tr>\n",
       "      <th>0</th>\n",
       "      <td>Desktop Computer</td>\n",
       "      <td>700</td>\n",
       "    </tr>\n",
       "    <tr>\n",
       "      <th>1</th>\n",
       "      <td>Tablet</td>\n",
       "      <td>250</td>\n",
       "    </tr>\n",
       "    <tr>\n",
       "      <th>2</th>\n",
       "      <td>iPhone</td>\n",
       "      <td>800</td>\n",
       "    </tr>\n",
       "    <tr>\n",
       "      <th>3</th>\n",
       "      <td>Laptop</td>\n",
       "      <td>1200</td>\n",
       "    </tr>\n",
       "  </tbody>\n",
       "</table>\n",
       "</div>"
      ],
      "text/plain": [
       "            Product  Price\n",
       "0  Desktop Computer    700\n",
       "1            Tablet    250\n",
       "2            iPhone    800\n",
       "3            Laptop   1200"
      ]
     },
     "execution_count": 5,
     "metadata": {},
     "output_type": "execute_result"
    }
   ],
   "source": [
    "data2=pd.read_json('complex_json.txt')\n",
    "data2"
   ]
  },
  {
   "cell_type": "code",
   "execution_count": 7,
   "metadata": {},
   "outputs": [
    {
     "data": {
      "text/plain": [
       "{'Product': {'0': 'Desktop Computer',\n",
       "  '1': 'Tablet',\n",
       "  '2': 'iPhone',\n",
       "  '3': 'Laptop'},\n",
       " 'Price': {'0': 700, '1': 250, '2': 800, '3': 1200}}"
      ]
     },
     "execution_count": 7,
     "metadata": {},
     "output_type": "execute_result"
    }
   ],
   "source": [
    "with open('complex_json.txt') as f:\n",
    "    data3=json.load(f)\n",
    "    \n",
    "data3"
   ]
  },
  {
   "cell_type": "code",
   "execution_count": null,
   "metadata": {},
   "outputs": [],
   "source": []
  },
  {
   "cell_type": "code",
   "execution_count": null,
   "metadata": {},
   "outputs": [],
   "source": []
  }
 ],
 "metadata": {
  "kernelspec": {
   "display_name": "Python 3",
   "language": "python",
   "name": "python3"
  },
  "language_info": {
   "codemirror_mode": {
    "name": "ipython",
    "version": 3
   },
   "file_extension": ".py",
   "mimetype": "text/x-python",
   "name": "python",
   "nbconvert_exporter": "python",
   "pygments_lexer": "ipython3",
   "version": "3.7.6"
  }
 },
 "nbformat": 4,
 "nbformat_minor": 4
}
